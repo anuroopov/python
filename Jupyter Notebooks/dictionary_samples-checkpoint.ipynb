{
 "cells": [
  {
   "cell_type": "code",
   "execution_count": 1,
   "id": "68e01c6d",
   "metadata": {},
   "outputs": [],
   "source": [
    "dict1={}"
   ]
  },
  {
   "cell_type": "code",
   "execution_count": 3,
   "id": "68c54798",
   "metadata": {},
   "outputs": [
    {
     "name": "stdout",
     "output_type": "stream",
     "text": [
      "{'Anuroop', 100}\n"
     ]
    }
   ],
   "source": [
    "dict1={'Anuroop', 100}\n",
    "print(dict1)"
   ]
  },
  {
   "cell_type": "code",
   "execution_count": 4,
   "id": "ff852e60",
   "metadata": {},
   "outputs": [],
   "source": [
    "dict1={'Rachel',250}, {'Suresh',50},{'Habib',87},{'Lalit',45}"
   ]
  },
  {
   "cell_type": "code",
   "execution_count": 7,
   "id": "27e1eb5b",
   "metadata": {},
   "outputs": [
    {
     "name": "stdout",
     "output_type": "stream",
     "text": [
      "({250, 'Rachel'}, {'Suresh', 50}, {'Habib', 87}, {'Lalit', 45})\n"
     ]
    },
    {
     "data": {
      "text/plain": [
       "tuple"
      ]
     },
     "execution_count": 7,
     "metadata": {},
     "output_type": "execute_result"
    }
   ],
   "source": [
    "print(dict1)\n",
    "type(dict1)"
   ]
  },
  {
   "cell_type": "code",
   "execution_count": 8,
   "id": "12033ad1",
   "metadata": {},
   "outputs": [
    {
     "name": "stdout",
     "output_type": "stream",
     "text": [
      "{'Wahid': 123, 'Freddy': 89}\n"
     ]
    },
    {
     "data": {
      "text/plain": [
       "dict"
      ]
     },
     "execution_count": 8,
     "metadata": {},
     "output_type": "execute_result"
    }
   ],
   "source": [
    "dict2={\"Wahid\":123,\"Freddy\":89}\n",
    "print(dict2)\n",
    "type(dict2)"
   ]
  },
  {
   "cell_type": "code",
   "execution_count": 10,
   "id": "1c5f8f69",
   "metadata": {},
   "outputs": [
    {
     "name": "stdout",
     "output_type": "stream",
     "text": [
      "89\n"
     ]
    }
   ],
   "source": [
    "#getting the value of a key in dictionary:\n",
    "print(dict2[\"Freddy\"])"
   ]
  },
  {
   "cell_type": "code",
   "execution_count": 12,
   "id": "4243b9c5",
   "metadata": {},
   "outputs": [
    {
     "name": "stdout",
     "output_type": "stream",
     "text": [
      "{100: 'Suraj', 101: 'Raju', 102: 'Babu', 103: 'kiran'}\n",
      "Babu\n"
     ]
    }
   ],
   "source": [
    "#data type of key is important while findng the key - value\n",
    "dict3={100:\"Suraj\", 101:\"Raju\", 102:\"Babu\", 103: \"kiran\"}\n",
    "print(dict3)\n",
    "print(dict3[102])"
   ]
  },
  {
   "cell_type": "code",
   "execution_count": 13,
   "id": "5fe86d66",
   "metadata": {},
   "outputs": [
    {
     "name": "stdout",
     "output_type": "stream",
     "text": [
      "{100: 'Suraj', 101: 'Raju', 102: 'Babu', 103: 'kiran', 104: 'Jacob'}\n"
     ]
    }
   ],
   "source": [
    "#Adding new Items to the dictionary\n",
    "dict3[104] = \"Jacob\"\n",
    "print(dict3)"
   ]
  },
  {
   "cell_type": "code",
   "execution_count": 14,
   "id": "c412b1f6",
   "metadata": {},
   "outputs": [],
   "source": [
    "#wiping a dictionary\n",
    "dict3={}\n"
   ]
  },
  {
   "cell_type": "code",
   "execution_count": 15,
   "id": "4fa74466",
   "metadata": {},
   "outputs": [
    {
     "name": "stdout",
     "output_type": "stream",
     "text": [
      "{}\n"
     ]
    }
   ],
   "source": [
    "print(dict3)"
   ]
  },
  {
   "cell_type": "code",
   "execution_count": 16,
   "id": "5dd85e3c",
   "metadata": {},
   "outputs": [
    {
     "name": "stdout",
     "output_type": "stream",
     "text": [
      "{100: 'Suraj', 101: 'Raju', 102: 'Babu', 103: 'kiran'}\n",
      "Babu\n"
     ]
    }
   ],
   "source": [
    "#data type of key is important while findng the key - value\n",
    "dict3={100:\"Suraj\", 101:\"Raju\", 102:\"Babu\", 103: \"kiran\"}\n",
    "print(dict3)\n",
    "print(dict3[102])"
   ]
  },
  {
   "cell_type": "code",
   "execution_count": 18,
   "id": "612e1ebc",
   "metadata": {},
   "outputs": [
    {
     "name": "stdout",
     "output_type": "stream",
     "text": [
      "{100: 'Suraj', 101: 'Raju', 102: 'TENDULKAR', 103: 'kiran'}\n"
     ]
    }
   ],
   "source": [
    "#Editing an item in a dictionary \n",
    "dict3[102] = \"TENDULKAR\"\n",
    "print(dict3)\n"
   ]
  },
  {
   "cell_type": "code",
   "execution_count": 22,
   "id": "8e2f1c2e",
   "metadata": {},
   "outputs": [
    {
     "name": "stdout",
     "output_type": "stream",
     "text": [
      "100 Suraj\n",
      "101 Raju\n",
      "102 TENDULKAR\n",
      "103 kiran\n"
     ]
    }
   ],
   "source": [
    "#looping through a dictionary\n",
    "for i in dict3:\n",
    "    print(i,dict3[i])\n",
    "   # print(dict3[i])"
   ]
  },
  {
   "cell_type": "code",
   "execution_count": null,
   "id": "ef8fd9e9",
   "metadata": {},
   "outputs": [],
   "source": []
  }
 ],
 "metadata": {
  "kernelspec": {
   "display_name": "Python 3 (ipykernel)",
   "language": "python",
   "name": "python3"
  },
  "language_info": {
   "codemirror_mode": {
    "name": "ipython",
    "version": 3
   },
   "file_extension": ".py",
   "mimetype": "text/x-python",
   "name": "python",
   "nbconvert_exporter": "python",
   "pygments_lexer": "ipython3",
   "version": "3.11.4"
  }
 },
 "nbformat": 4,
 "nbformat_minor": 5
}
